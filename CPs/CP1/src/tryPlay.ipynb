{
 "cells": [
  {
   "cell_type": "code",
   "execution_count": 12,
   "id": "8c362bbd",
   "metadata": {},
   "outputs": [],
   "source": [
    "from Vocabulary import Vocabulary\n",
    "import numpy as np\n",
    "from MLEstimator import MLEstimator\n",
    "from run_select_alpha import *"
   ]
  },
  {
   "cell_type": "code",
   "execution_count": 17,
   "id": "1cd9f937",
   "metadata": {},
   "outputs": [],
   "source": [
    "word_list = ['dinosaur', 'trex', 'dinosaur', 'stegosaurus']"
   ]
  },
  {
   "cell_type": "code",
   "execution_count": 18,
   "id": "cea0ff70",
   "metadata": {},
   "outputs": [],
   "source": [
    "vocab = Vocabulary(word_list)"
   ]
  },
  {
   "cell_type": "code",
   "execution_count": 19,
   "id": "7bedf81f",
   "metadata": {},
   "outputs": [
    {
     "data": {
      "text/plain": [
       "3"
      ]
     },
     "execution_count": 19,
     "metadata": {},
     "output_type": "execute_result"
    }
   ],
   "source": [
    "vocab.size"
   ]
  },
  {
   "cell_type": "code",
   "execution_count": 20,
   "id": "d224a4be",
   "metadata": {},
   "outputs": [],
   "source": [
    "l = ['dinosaur', 'dinosaur', 'trex', 'trex']"
   ]
  },
  {
   "cell_type": "code",
   "execution_count": 21,
   "id": "b27afb68",
   "metadata": {},
   "outputs": [],
   "source": [
    "mle = MLEstimator(vocab, epsilon_unseen_proba=0.1)"
   ]
  },
  {
   "cell_type": "code",
   "execution_count": 22,
   "id": "86b42563",
   "metadata": {},
   "outputs": [],
   "source": [
    "mle.fit(l)"
   ]
  },
  {
   "cell_type": "code",
   "execution_count": null,
   "id": "4dee9556",
   "metadata": {},
   "outputs": [],
   "source": []
  },
  {
   "cell_type": "code",
   "execution_count": 23,
   "id": "c4592857",
   "metadata": {},
   "outputs": [
    {
     "data": {
      "text/plain": [
       "0.45"
      ]
     },
     "execution_count": 23,
     "metadata": {},
     "output_type": "execute_result"
    }
   ],
   "source": [
    "mle.predict_proba(\"dinosaur\")"
   ]
  },
  {
   "cell_type": "code",
   "execution_count": 25,
   "id": "f7d196c9",
   "metadata": {},
   "outputs": [
    {
     "data": {
      "text/plain": [
       "0.45"
      ]
     },
     "execution_count": 25,
     "metadata": {},
     "output_type": "execute_result"
    }
   ],
   "source": [
    "mle.predict_proba(\"trex\")"
   ]
  },
  {
   "cell_type": "code",
   "execution_count": 26,
   "id": "3fdf2f21",
   "metadata": {},
   "outputs": [
    {
     "data": {
      "text/plain": [
       "0.1"
      ]
     },
     "execution_count": 26,
     "metadata": {},
     "output_type": "execute_result"
    }
   ],
   "source": [
    "mle.predict_proba(\"stegosaurus\")"
   ]
  },
  {
   "cell_type": "code",
   "execution_count": 27,
   "id": "e2a4b1a0",
   "metadata": {},
   "outputs": [
    {
     "data": {
      "text/plain": [
       "-0.7985076962177716"
      ]
     },
     "execution_count": 27,
     "metadata": {},
     "output_type": "execute_result"
    }
   ],
   "source": [
    "mle.score(l)"
   ]
  },
  {
   "cell_type": "code",
   "execution_count": 3,
   "id": "4e853581",
   "metadata": {},
   "outputs": [],
   "source": [
    "vocab4 = Vocabulary([\"a\", \"b\", \"c\", \"d\"])"
   ]
  },
  {
   "cell_type": "code",
   "execution_count": 4,
   "id": "c366b426",
   "metadata": {},
   "outputs": [],
   "source": [
    "est = PosteriorPredictiveEstimator(vocab=vocab4, alpha=1.0)"
   ]
  },
  {
   "cell_type": "code",
   "execution_count": 35,
   "id": "4ec161d0",
   "metadata": {},
   "outputs": [
    {
     "ename": "TypeError",
     "evalue": "'method' object is not subscriptable",
     "output_type": "error",
     "traceback": [
      "\u001b[0;31m---------------------------------------------------------------------------\u001b[0m",
      "\u001b[0;31mTypeError\u001b[0m                                 Traceback (most recent call last)",
      "Cell \u001b[0;32mIn[35], line 1\u001b[0m\n\u001b[0;32m----> 1\u001b[0m \u001b[43mest\u001b[49m\u001b[38;5;241;43m.\u001b[39;49m\u001b[43mfit\u001b[49m\u001b[43m(\u001b[49m\u001b[43m[\u001b[49m\u001b[38;5;124;43m\"\u001b[39;49m\u001b[38;5;124;43ma\u001b[39;49m\u001b[38;5;124;43m\"\u001b[39;49m\u001b[43m]\u001b[49m\u001b[43m)\u001b[49m\n",
      "File \u001b[0;32m~/Desktop/CS136/CPs/CP1/src/PosteriorPredictiveEstimator.py:83\u001b[0m, in \u001b[0;36mPosteriorPredictiveEstimator.fit\u001b[0;34m(self, word_list)\u001b[0m\n\u001b[1;32m     81\u001b[0m \u001b[38;5;28;01mfor\u001b[39;00m word \u001b[38;5;129;01min\u001b[39;00m word_list:\n\u001b[1;32m     82\u001b[0m     \u001b[38;5;28mself\u001b[39m\u001b[38;5;241m.\u001b[39mtotal_count \u001b[38;5;241m+\u001b[39m\u001b[38;5;241m=\u001b[39m \u001b[38;5;241m1\u001b[39m\n\u001b[0;32m---> 83\u001b[0m     word_id \u001b[38;5;241m=\u001b[39m \u001b[38;5;28;43mself\u001b[39;49m\u001b[38;5;241;43m.\u001b[39;49m\u001b[43mvocab\u001b[49m\u001b[38;5;241;43m.\u001b[39;49m\u001b[43mget_word_id\u001b[49m\u001b[43m[\u001b[49m\u001b[43mword\u001b[49m\u001b[43m]\u001b[49m\n\u001b[1;32m     84\u001b[0m     \u001b[38;5;28mself\u001b[39m\u001b[38;5;241m.\u001b[39mcount_V[word_id] \u001b[38;5;241m+\u001b[39m\u001b[38;5;241m=\u001b[39m \u001b[38;5;241m1\u001b[39m\n",
      "\u001b[0;31mTypeError\u001b[0m: 'method' object is not subscriptable"
     ]
    }
   ],
   "source": [
    "est.fit([\"a\"])"
   ]
  },
  {
   "cell_type": "code",
   "execution_count": 5,
   "id": "5e57fd99",
   "metadata": {},
   "outputs": [
    {
     "name": "stdout",
     "output_type": "stream",
     "text": [
      "hello\n",
      "V: 4\n",
      "N: 1\n",
      "V: 4\n",
      "N: 1\n",
      "prod_nv_alpha: 0.0\n",
      "prod_alpha: 0.0\n",
      "log_evidence: -1.3862943611198908\n"
     ]
    },
    {
     "data": {
      "text/plain": [
       "0.25"
      ]
     },
     "execution_count": 5,
     "metadata": {},
     "output_type": "execute_result"
    }
   ],
   "source": [
    "np.round(np.exp(calc_per_word_log_evidence(est, [\"a\"])), 5)"
   ]
  },
  {
   "cell_type": "code",
   "execution_count": 6,
   "id": "9fa1fdb4",
   "metadata": {},
   "outputs": [],
   "source": [
    "vocab3 = Vocabulary([\"a\", \"b\", \"c\"])"
   ]
  },
  {
   "cell_type": "code",
   "execution_count": 7,
   "id": "b0299ce2",
   "metadata": {},
   "outputs": [],
   "source": [
    "est = PosteriorPredictiveEstimator(vocab=vocab3, alpha=0.1)"
   ]
  },
  {
   "cell_type": "code",
   "execution_count": 8,
   "id": "e9a6b1c0",
   "metadata": {},
   "outputs": [
    {
     "name": "stdout",
     "output_type": "stream",
     "text": [
      "hello\n",
      "V: 3\n",
      "N: 6\n",
      "V: 3\n",
      "N: 6\n",
      "prod_nv_alpha: 0.13631321563345553\n",
      "prod_alpha: 6.758137955202618\n",
      "log_evidence: -10.833369634375849\n"
     ]
    }
   ],
   "source": [
    "log_ev = calc_per_word_log_evidence(est, [\"a\", \"a\", \"b\", \"b\", \"c\", \"c\"])"
   ]
  },
  {
   "cell_type": "code",
   "execution_count": 9,
   "id": "37f520ec",
   "metadata": {},
   "outputs": [
    {
     "data": {
      "text/plain": [
       "0.16438"
      ]
     },
     "execution_count": 9,
     "metadata": {},
     "output_type": "execute_result"
    }
   ],
   "source": [
    "np.round(np.exp(log_ev), 5)"
   ]
  },
  {
   "cell_type": "code",
   "execution_count": 13,
   "id": "422699be",
   "metadata": {},
   "outputs": [
    {
     "name": "stdout",
     "output_type": "stream",
     "text": [
      "hello\n",
      "V: 3\n",
      "N: 6\n",
      "V: 3\n",
      "N: 6\n",
      "prod_nv_alpha: 9.464430011673915\n",
      "prod_alpha: 6.758137955202618\n",
      "log_evidence: -1.5052528383353883\n"
     ]
    }
   ],
   "source": [
    "log_ev = calc_per_word_log_evidence(est, [\"c\", \"c\", \"c\", \"c\", \"c\", \"c\"])"
   ]
  },
  {
   "cell_type": "code",
   "execution_count": 11,
   "id": "2d692771",
   "metadata": {},
   "outputs": [
    {
     "data": {
      "text/plain": [
       "0.77812"
      ]
     },
     "execution_count": 11,
     "metadata": {},
     "output_type": "execute_result"
    }
   ],
   "source": [
    "np.round(np.exp(log_ev), 5)"
   ]
  },
  {
   "cell_type": "code",
   "execution_count": null,
   "id": "e75a8d08",
   "metadata": {},
   "outputs": [],
   "source": []
  }
 ],
 "metadata": {
  "kernelspec": {
   "display_name": "Python 3 (ipykernel)",
   "language": "python",
   "name": "python3"
  },
  "language_info": {
   "codemirror_mode": {
    "name": "ipython",
    "version": 3
   },
   "file_extension": ".py",
   "mimetype": "text/x-python",
   "name": "python",
   "nbconvert_exporter": "python",
   "pygments_lexer": "ipython3",
   "version": "3.10.9"
  }
 },
 "nbformat": 4,
 "nbformat_minor": 5
}
