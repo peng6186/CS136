{
 "cells": [
  {
   "cell_type": "markdown",
   "id": "cf5e242d",
   "metadata": {},
   "source": [
    "### 1.  Processing Data"
   ]
  },
  {
   "cell_type": "code",
   "execution_count": 58,
   "id": "591191c7",
   "metadata": {},
   "outputs": [],
   "source": [
    "# import necessary libraries\n",
    "\n",
    "import numpy as np\n",
    "import pandas as pd \n",
    "import matplotlib.pyplot as plt\n",
    "import seaborn as sns\n",
    "from sklearn.preprocessing import LabelEncoder"
   ]
  },
  {
   "cell_type": "code",
   "execution_count": 90,
   "id": "b47a2228",
   "metadata": {},
   "outputs": [],
   "source": [
    "# read two regions data and combine them into one\n",
    "\n",
    "df1 = pd.read_csv('Algerian_forest_fires_dataset_UPDATE.csv', header = 1, nrows=122)\n",
    "df2 = pd.read_csv('Algerian_forest_fires_dataset_UPDATE.csv', header = 1, skiprows = 125)\n",
    "\n",
    "# strip extra spaces in columns' names\n",
    "df1.columns = df1.columns.str.strip()\n",
    "df2.columns = df2.columns.str.strip()\n",
    "df1['Classes'] = df1['Classes'].str.lower().str.strip()\n",
    "df2['Classes'] = df2['Classes'].str.lower().str.strip()\n",
    "df1 = df1.dropna()\n",
    "df2 = df2.dropna()\n",
    "df2['DC'] = df2['DC'].astype(float)\n",
    "df2['FWI'] = df2['FWI'].astype(float)\n",
    "# convert string categorial classficiation to numerical classification\n",
    "class_dict = {'not fire': 0, 'fire': 1}\n",
    "df1['Classes'] = df1['Classes'].map(class_dict)\n",
    "df2['Classes'] = df2['Classes'].map(class_dict)\n"
   ]
  },
  {
   "cell_type": "code",
   "execution_count": 91,
   "id": "2716f72c",
   "metadata": {},
   "outputs": [],
   "source": [
    "# drop unnecessary attribute (day, mon, year)\n",
    "df = np.vstack((df1, df2))\n",
    "cleaned_df = df[:, 3:]\n",
    "data_x = cleaned_df[:, :-1]\n",
    "data_y = cleaned_df[:, -1]"
   ]
  },
  {
   "cell_type": "code",
   "execution_count": 92,
   "id": "3547cb10",
   "metadata": {},
   "outputs": [
    {
     "name": "stdout",
     "output_type": "stream",
     "text": [
      "[[29.  57.  18.  ...  3.4  0.5  0. ]\n",
      " [29.  61.  13.  ...  3.9  0.4  0. ]\n",
      " [26.  82.  22.  ...  2.7  0.1  0. ]\n",
      " ...\n",
      " [27.  87.  29.  ...  3.4  0.2  0. ]\n",
      " [24.  54.  18.  ...  5.1  0.7  0. ]\n",
      " [24.  64.  15.  ...  4.8  0.5  0. ]]\n",
      "(243, 11)\n"
     ]
    }
   ],
   "source": [
    "print(cleaned_df)\n",
    "print(cleaned_df.shape)"
   ]
  },
  {
   "cell_type": "code",
   "execution_count": 93,
   "id": "e348dd36",
   "metadata": {},
   "outputs": [
    {
     "name": "stdout",
     "output_type": "stream",
     "text": [
      "(243, 10)\n",
      "(243,)\n"
     ]
    }
   ],
   "source": [
    "print(data_x.shape)\n",
    "print(data_y.shape)"
   ]
  },
  {
   "cell_type": "code",
   "execution_count": 94,
   "id": "2399addc",
   "metadata": {},
   "outputs": [
    {
     "name": "stdout",
     "output_type": "stream",
     "text": [
      "[[29.  57.  18.  ...  1.3  3.4  0.5]\n",
      " [29.  61.  13.  ...  1.   3.9  0.4]\n",
      " [26.  82.  22.  ...  0.3  2.7  0.1]\n",
      " ...\n",
      " [27.  87.  29.  ...  0.4  3.4  0.2]\n",
      " [24.  54.  18.  ...  1.7  5.1  0.7]\n",
      " [24.  64.  15.  ...  1.2  4.8  0.5]]\n"
     ]
    }
   ],
   "source": [
    "print(data_x)"
   ]
  },
  {
   "cell_type": "code",
   "execution_count": 95,
   "id": "e8a6217e",
   "metadata": {},
   "outputs": [
    {
     "data": {
      "text/plain": [
       "5"
      ]
     },
     "execution_count": 95,
     "metadata": {},
     "output_type": "execute_result"
    }
   ],
   "source": [
    "# K-Fold Spliting \n",
    "\n",
    "from sklearn.model_selection import KFold\n",
    "kf = KFold(n_splits=5, shuffle=True, random_state=42)\n",
    "kf.get_n_splits()"
   ]
  },
  {
   "cell_type": "code",
   "execution_count": 96,
   "id": "2c847ec0",
   "metadata": {},
   "outputs": [
    {
     "name": "stdout",
     "output_type": "stream",
     "text": [
      "KFold(n_splits=5, random_state=42, shuffle=True)\n"
     ]
    }
   ],
   "source": [
    "print(kf)"
   ]
  },
  {
   "cell_type": "code",
   "execution_count": null,
   "id": "568e4a82",
   "metadata": {},
   "outputs": [],
   "source": []
  },
  {
   "cell_type": "code",
   "execution_count": null,
   "id": "176e6d5f",
   "metadata": {},
   "outputs": [],
   "source": []
  },
  {
   "cell_type": "code",
   "execution_count": null,
   "id": "5f0bdbd1",
   "metadata": {},
   "outputs": [],
   "source": []
  },
  {
   "cell_type": "markdown",
   "id": "cf523e5a",
   "metadata": {},
   "source": [
    "### 2. Base Model"
   ]
  },
  {
   "cell_type": "code",
   "execution_count": 97,
   "id": "e432e21a",
   "metadata": {},
   "outputs": [],
   "source": [
    "# import necessary libraries\n",
    "from sklearn.linear_model import LogisticRegression"
   ]
  },
  {
   "cell_type": "code",
   "execution_count": 98,
   "id": "183f656f",
   "metadata": {},
   "outputs": [
    {
     "name": "stderr",
     "output_type": "stream",
     "text": [
      "/Users/peng/miniconda3/envs/cs136/lib/python3.10/site-packages/sklearn/linear_model/_logistic.py:458: ConvergenceWarning: lbfgs failed to converge (status=1):\n",
      "STOP: TOTAL NO. of ITERATIONS REACHED LIMIT.\n",
      "\n",
      "Increase the number of iterations (max_iter) or scale the data as shown in:\n",
      "    https://scikit-learn.org/stable/modules/preprocessing.html\n",
      "Please also refer to the documentation for alternative solver options:\n",
      "    https://scikit-learn.org/stable/modules/linear_model.html#logistic-regression\n",
      "  n_iter_i = _check_optimize_result(\n",
      "/Users/peng/miniconda3/envs/cs136/lib/python3.10/site-packages/sklearn/linear_model/_logistic.py:458: ConvergenceWarning: lbfgs failed to converge (status=1):\n",
      "STOP: TOTAL NO. of ITERATIONS REACHED LIMIT.\n",
      "\n",
      "Increase the number of iterations (max_iter) or scale the data as shown in:\n",
      "    https://scikit-learn.org/stable/modules/preprocessing.html\n",
      "Please also refer to the documentation for alternative solver options:\n",
      "    https://scikit-learn.org/stable/modules/linear_model.html#logistic-regression\n",
      "  n_iter_i = _check_optimize_result(\n",
      "/Users/peng/miniconda3/envs/cs136/lib/python3.10/site-packages/sklearn/linear_model/_logistic.py:458: ConvergenceWarning: lbfgs failed to converge (status=1):\n",
      "STOP: TOTAL NO. of ITERATIONS REACHED LIMIT.\n",
      "\n",
      "Increase the number of iterations (max_iter) or scale the data as shown in:\n",
      "    https://scikit-learn.org/stable/modules/preprocessing.html\n",
      "Please also refer to the documentation for alternative solver options:\n",
      "    https://scikit-learn.org/stable/modules/linear_model.html#logistic-regression\n",
      "  n_iter_i = _check_optimize_result(\n",
      "/Users/peng/miniconda3/envs/cs136/lib/python3.10/site-packages/sklearn/linear_model/_logistic.py:458: ConvergenceWarning: lbfgs failed to converge (status=1):\n",
      "STOP: TOTAL NO. of ITERATIONS REACHED LIMIT.\n",
      "\n",
      "Increase the number of iterations (max_iter) or scale the data as shown in:\n",
      "    https://scikit-learn.org/stable/modules/preprocessing.html\n",
      "Please also refer to the documentation for alternative solver options:\n",
      "    https://scikit-learn.org/stable/modules/linear_model.html#logistic-regression\n",
      "  n_iter_i = _check_optimize_result(\n",
      "/Users/peng/miniconda3/envs/cs136/lib/python3.10/site-packages/sklearn/linear_model/_logistic.py:458: ConvergenceWarning: lbfgs failed to converge (status=1):\n",
      "STOP: TOTAL NO. of ITERATIONS REACHED LIMIT.\n",
      "\n",
      "Increase the number of iterations (max_iter) or scale the data as shown in:\n",
      "    https://scikit-learn.org/stable/modules/preprocessing.html\n",
      "Please also refer to the documentation for alternative solver options:\n",
      "    https://scikit-learn.org/stable/modules/linear_model.html#logistic-regression\n",
      "  n_iter_i = _check_optimize_result(\n"
     ]
    }
   ],
   "source": [
    "lg_clf = LogisticRegression(max_iter=2000)\n",
    "train_acc_vector = []\n",
    "test_acc_vector = []\n",
    "\n",
    "for (train_idx, test_idx) in kf.split(data_x):\n",
    "    train_x, test_x = data_x[train_idx, :], data_x[test_idx, :]\n",
    "    train_y, test_y = data_y[train_idx], data_y[test_idx]\n",
    "    lg_clf.fit(train_x, train_y)\n",
    "    train_acc_vector.append(lg_clf.score(train_x, train_y))\n",
    "    test_acc_vector.append(lg_clf.score(test_x, test_y))\n",
    "avg_train_acc = np.average(train_acc_vector)\n",
    "avg_test_acc = np.average(test_acc_vector)"
   ]
  },
  {
   "cell_type": "code",
   "execution_count": null,
   "id": "c81ba22b",
   "metadata": {},
   "outputs": [],
   "source": []
  },
  {
   "cell_type": "markdown",
   "id": "00dd4301",
   "metadata": {},
   "source": [
    "### 3. Upgrade"
   ]
  },
  {
   "cell_type": "code",
   "execution_count": null,
   "id": "552098f7",
   "metadata": {},
   "outputs": [],
   "source": []
  }
 ],
 "metadata": {
  "kernelspec": {
   "display_name": "Python 3 (ipykernel)",
   "language": "python",
   "name": "python3"
  },
  "language_info": {
   "codemirror_mode": {
    "name": "ipython",
    "version": 3
   },
   "file_extension": ".py",
   "mimetype": "text/x-python",
   "name": "python",
   "nbconvert_exporter": "python",
   "pygments_lexer": "ipython3",
   "version": "3.10.9"
  }
 },
 "nbformat": 4,
 "nbformat_minor": 5
}
