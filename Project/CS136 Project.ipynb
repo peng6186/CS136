{
 "cells": [
  {
   "cell_type": "markdown",
   "id": "cf5e242d",
   "metadata": {},
   "source": [
    "### 1.  Processing Data"
   ]
  },
  {
   "cell_type": "code",
   "execution_count": 37,
   "id": "591191c7",
   "metadata": {},
   "outputs": [],
   "source": [
    "# import necessary libraries\n",
    "\n",
    "import numpy as np\n",
    "import pandas as pd \n",
    "import matplotlib.pyplot as plt\n",
    "import seaborn as sns\n",
    "from sklearn.preprocessing import LabelEncoder"
   ]
  },
  {
   "cell_type": "code",
   "execution_count": 38,
   "id": "b47a2228",
   "metadata": {},
   "outputs": [],
   "source": [
    "# read two regions data and combine them into one\n",
    "\n",
    "df1 = pd.read_csv('Algerian_forest_fires_dataset_UPDATE.csv', header = 1, nrows=122)\n",
    "df2 = pd.read_csv('Algerian_forest_fires_dataset_UPDATE.csv', header = 1, skiprows = 125)\n",
    "\n",
    "# strip extra spaces in columns' names\n",
    "df1.columns = df1.columns.str.strip()\n",
    "df2.columns = df2.columns.str.strip()\n",
    "df1['Classes'] = df1['Classes'].str.lower().str.strip()\n",
    "df2['Classes'] = df2['Classes'].str.lower().str.strip()\n",
    "df1 = df1.dropna()\n",
    "df2 = df2.dropna()\n",
    "df2['DC'] = df2['DC'].astype(float)\n",
    "df2['FWI'] = df2['FWI'].astype(float)\n",
    "# convert string categorial classficiation to numerical classification\n",
    "class_dict = {'not fire': 0, 'fire': 1}\n",
    "df1['Classes'] = df1['Classes'].map(class_dict)\n",
    "df2['Classes'] = df2['Classes'].map(class_dict)\n"
   ]
  },
  {
   "cell_type": "code",
   "execution_count": 39,
   "id": "2716f72c",
   "metadata": {},
   "outputs": [],
   "source": [
    "# drop unnecessary attribute (day, mon, year)\n",
    "df = np.vstack((df1, df2))\n",
    "cleaned_df = df[:, 3:]\n",
    "data_x = cleaned_df[:, :-1]\n",
    "data_y = cleaned_df[:, -1]"
   ]
  },
  {
   "cell_type": "code",
   "execution_count": 40,
   "id": "d636ca54",
   "metadata": {},
   "outputs": [
    {
     "name": "stdout",
     "output_type": "stream",
     "text": [
      "[[29.  57.  18.  ...  3.4  0.5  0. ]\n",
      " [29.  61.  13.  ...  3.9  0.4  0. ]\n",
      " [26.  82.  22.  ...  2.7  0.1  0. ]\n",
      " ...\n",
      " [27.  87.  29.  ...  3.4  0.2  0. ]\n",
      " [24.  54.  18.  ...  5.1  0.7  0. ]\n",
      " [24.  64.  15.  ...  4.8  0.5  0. ]]\n",
      "(243, 11)\n"
     ]
    }
   ],
   "source": [
    "print(cleaned_df)\n",
    "print(cleaned_df.shape)"
   ]
  },
  {
   "cell_type": "code",
   "execution_count": 41,
   "id": "c6e8016e",
   "metadata": {},
   "outputs": [
    {
     "name": "stdout",
     "output_type": "stream",
     "text": [
      "(243, 10)\n",
      "(243,)\n"
     ]
    }
   ],
   "source": [
    "print(data_x.shape)\n",
    "print(data_y.shape)"
   ]
  },
  {
   "cell_type": "code",
   "execution_count": 42,
   "id": "43786eba",
   "metadata": {},
   "outputs": [
    {
     "name": "stdout",
     "output_type": "stream",
     "text": [
      "[[29.  57.  18.  ...  1.3  3.4  0.5]\n",
      " [29.  61.  13.  ...  1.   3.9  0.4]\n",
      " [26.  82.  22.  ...  0.3  2.7  0.1]\n",
      " ...\n",
      " [27.  87.  29.  ...  0.4  3.4  0.2]\n",
      " [24.  54.  18.  ...  1.7  5.1  0.7]\n",
      " [24.  64.  15.  ...  1.2  4.8  0.5]]\n",
      "[0. 0. 0. 0. 0. 1. 1. 1. 0. 0. 1. 1. 0. 0. 0. 0. 0. 0. 0. 0. 1. 0. 1. 1.\n",
      " 1. 1. 1. 1. 0. 1. 0. 0. 0. 0. 1. 1. 0. 1. 0. 0. 0. 0. 0. 0. 0. 0. 1. 1.\n",
      " 1. 1. 1. 0. 0. 0. 1. 1. 1. 1. 1. 1. 1. 0. 0. 0. 1. 1. 1. 1. 0. 1. 1. 1.\n",
      " 0. 1. 1. 1. 1. 1. 1. 1. 1. 1. 1. 1. 1. 1. 1. 1. 1. 1. 0. 0. 0. 0. 0. 0.\n",
      " 1. 0. 0. 0. 0. 0. 0. 0. 0. 0. 0. 0. 1. 1. 1. 1. 1. 0. 0. 0. 0. 0. 1. 0.\n",
      " 0. 0. 0. 0. 0. 0. 0. 1. 1. 0. 0. 1. 1. 1. 0. 0. 0. 0. 0. 0. 0. 0. 1. 0.\n",
      " 0. 1. 1. 1. 1. 1. 1. 0. 0. 1. 1. 1. 1. 1. 1. 1. 1. 0. 0. 1. 1. 1. 1. 1.\n",
      " 1. 1. 1. 1. 1. 1. 0. 0. 0. 0. 1. 1. 1. 1. 0. 1. 1. 1. 1. 0. 0. 1. 1. 1.\n",
      " 1. 1. 1. 1. 1. 1. 1. 1. 1. 1. 1. 1. 1. 1. 1. 1. 1. 0. 1. 1. 1. 0. 0. 1.\n",
      " 0. 0. 0. 1. 1. 1. 0. 0. 1. 1. 1. 1. 1. 1. 1. 1. 0. 1. 1. 1. 0. 0. 1. 0.\n",
      " 0. 0. 0.]\n"
     ]
    }
   ],
   "source": [
    "print(data_x)\n",
    "print(data_y)"
   ]
  },
  {
   "cell_type": "code",
   "execution_count": 43,
   "id": "d04abdc9",
   "metadata": {},
   "outputs": [
    {
     "data": {
      "text/plain": [
       "5"
      ]
     },
     "execution_count": 43,
     "metadata": {},
     "output_type": "execute_result"
    }
   ],
   "source": [
    "# K-Fold Spliting \n",
    "\n",
    "from sklearn.model_selection import KFold\n",
    "kf = KFold(n_splits=5, shuffle=True, random_state=42)\n",
    "kf.get_n_splits()"
   ]
  },
  {
   "cell_type": "code",
   "execution_count": 44,
   "id": "b39426a2",
   "metadata": {},
   "outputs": [
    {
     "name": "stdout",
     "output_type": "stream",
     "text": [
      "KFold(n_splits=5, random_state=42, shuffle=True)\n"
     ]
    }
   ],
   "source": [
    "print(kf)"
   ]
  },
  {
   "cell_type": "code",
   "execution_count": null,
   "id": "66f1531d",
   "metadata": {},
   "outputs": [],
   "source": []
  },
  {
   "cell_type": "code",
   "execution_count": null,
   "id": "ab2c3450",
   "metadata": {},
   "outputs": [],
   "source": []
  },
  {
   "cell_type": "markdown",
   "id": "cf523e5a",
   "metadata": {},
   "source": [
    "### 2. Base Model"
   ]
  },
  {
   "cell_type": "code",
   "execution_count": 45,
   "id": "e432e21a",
   "metadata": {},
   "outputs": [],
   "source": [
    "# import necessary libraries\n",
    "from sklearn.linear_model import LogisticRegression"
   ]
  },
  {
   "cell_type": "code",
   "execution_count": 46,
   "id": "183f656f",
   "metadata": {},
   "outputs": [],
   "source": [
    "lg_clf = LogisticRegression(max_iter=2000)\n",
    "train_acc_vector = []\n",
    "test_acc_vector = []\n",
    "\n",
    "for (train_idx, test_idx) in kf.split(data_x):\n",
    "    train_x, test_x = data_x[train_idx, :], data_x[test_idx, :]\n",
    "    train_y, test_y = data_y[train_idx], data_y[test_idx]\n",
    "    lg_clf.fit(train_x, train_y)\n",
    "    train_acc_vector.append(lg_clf.score(train_x, train_y))\n",
    "    test_acc_vector.append(lg_clf.score(test_x, test_y))\n",
    "avg_train_acc = np.average(train_acc_vector)\n",
    "avg_test_acc = np.average(test_acc_vector)"
   ]
  },
  {
   "cell_type": "code",
   "execution_count": 47,
   "id": "c81ba22b",
   "metadata": {},
   "outputs": [
    {
     "name": "stdout",
     "output_type": "stream",
     "text": [
      "avg_train_acc:  0.9907375099127677\n",
      "avg_test_acc:  0.9835034013605443\n"
     ]
    }
   ],
   "source": [
    "print(\"avg_train_acc: \", avg_train_acc)\n",
    "print(\"avg_test_acc: \", avg_test_acc)"
   ]
  },
  {
   "cell_type": "markdown",
   "id": "00dd4301",
   "metadata": {},
   "source": [
    "### 3. Upgrade"
   ]
  },
  {
   "cell_type": "code",
   "execution_count": 48,
   "id": "552098f7",
   "metadata": {},
   "outputs": [],
   "source": [
    "#1 feature scale (convert changes of all features to the same range ) and L1 penalty (force some coefficient to zero)"
   ]
  },
  {
   "cell_type": "code",
   "execution_count": 49,
   "id": "2223839c",
   "metadata": {},
   "outputs": [],
   "source": [
    "# type(data_x)\n",
    "# from scipy.special import softmax\n",
    "\n",
    "# temp = np.copy(data_x)\n",
    "# norm_x = softmax(temp)\n",
    "# data_x = norm_x"
   ]
  },
  {
   "cell_type": "code",
   "execution_count": 50,
   "id": "9595b3a2",
   "metadata": {},
   "outputs": [],
   "source": [
    "from sklearn.preprocessing import MinMaxScaler\n",
    "scaler = MinMaxScaler()\n",
    "scaler.fit(data_x)\n",
    "scaled_x = scaler.transform(data_x)"
   ]
  },
  {
   "cell_type": "code",
   "execution_count": 51,
   "id": "6f146fe1",
   "metadata": {},
   "outputs": [
    {
     "name": "stdout",
     "output_type": "stream",
     "text": [
      "[[0.35       0.52173913 0.52173913 ... 0.06842105 0.03437967 0.01607717]\n",
      " [0.35       0.57971014 0.30434783 ... 0.05263158 0.04185351 0.01286174]\n",
      " [0.2        0.88405797 0.69565217 ... 0.01578947 0.02391629 0.00321543]\n",
      " ...\n",
      " [0.25       0.95652174 1.         ... 0.02105263 0.03437967 0.00643087]\n",
      " [0.1        0.47826087 0.52173913 ... 0.08947368 0.05979073 0.02250804]\n",
      " [0.1        0.62318841 0.39130435 ... 0.06315789 0.05530643 0.01607717]]\n"
     ]
    }
   ],
   "source": [
    "print(scaled_x)"
   ]
  },
  {
   "cell_type": "code",
   "execution_count": 52,
   "id": "299dd878",
   "metadata": {},
   "outputs": [],
   "source": [
    "u1_lg = LogisticRegression(max_iter=2000, solver='liblinear', penalty='l1')\n",
    "u1_train_acc_vector = []\n",
    "u1_test_acc_vector = []\n",
    "\n",
    "for (train_idx, test_idx) in kf.split(data_x):\n",
    "    train_x, test_x = scaled_x[train_idx, :], scaled_x[test_idx, :]\n",
    "    train_y, test_y = data_y[train_idx], data_y[test_idx]\n",
    "    u1_lg.fit(train_x, train_y)\n",
    "    u1_train_acc_vector.append(u1_lg.score(train_x, train_y))\n",
    "    u1_test_acc_vector.append(u1_lg.score(test_x, test_y))\n",
    "u1_avg_train_acc = np.average(u1_train_acc_vector)\n",
    "u1_avg_test_acc = np.average(u1_test_acc_vector)"
   ]
  },
  {
   "cell_type": "code",
   "execution_count": 53,
   "id": "d4087c7f",
   "metadata": {},
   "outputs": [
    {
     "name": "stdout",
     "output_type": "stream",
     "text": [
      "u1_avg_train_acc:  0.971186888712662\n",
      "u1_avg_test_acc:  0.946513605442177\n"
     ]
    }
   ],
   "source": [
    "print(\"u1_avg_train_acc: \", u1_avg_train_acc)\n",
    "print(\"u1_avg_test_acc: \", u1_avg_test_acc)"
   ]
  },
  {
   "cell_type": "code",
   "execution_count": 54,
   "id": "3a991d3a",
   "metadata": {},
   "outputs": [
    {
     "data": {
      "text/plain": [
       "array([[ 0.        ,  0.        ,  0.        ,  0.        ,  0.        ,\n",
       "         0.        ,  0.        , 21.180689  ,  0.        ,  1.04770311]])"
      ]
     },
     "execution_count": 54,
     "metadata": {},
     "output_type": "execute_result"
    }
   ],
   "source": [
    "u1_lg.coef_"
   ]
  },
  {
   "cell_type": "code",
   "execution_count": 55,
   "id": "857b033e",
   "metadata": {},
   "outputs": [],
   "source": [
    "#2 usging feature transformation (order 2)\n",
    "# select most relevant features then do the polynomial transformation\n"
   ]
  },
  {
   "cell_type": "code",
   "execution_count": 56,
   "id": "13eb6d41",
   "metadata": {},
   "outputs": [
    {
     "name": "stdout",
     "output_type": "stream",
     "text": [
      "[[0.06842105 0.01607717]\n",
      " [0.05263158 0.01286174]\n",
      " [0.01578947 0.00321543]\n",
      " [0.         0.        ]\n",
      " [0.06315789 0.01607717]\n",
      " [0.16315789 0.08038585]\n",
      " [0.33684211 0.23151125]\n",
      " [0.29473684 0.22829582]\n",
      " [0.02105263 0.0096463 ]\n",
      " [0.06842105 0.02893891]\n",
      " [0.21052632 0.18006431]\n",
      " [0.25263158 0.22829582]\n",
      " [0.02631579 0.00643087]\n",
      " [0.05263158 0.01286174]\n",
      " [0.02105263 0.00321543]\n",
      " [0.         0.        ]\n",
      " [0.         0.        ]\n",
      " [0.03684211 0.00643087]\n",
      " [0.13157895 0.04501608]\n",
      " [0.04736842 0.01286174]\n",
      " [0.13684211 0.07073955]\n",
      " [0.12631579 0.07395498]\n",
      " [0.17368421 0.1221865 ]\n",
      " [0.29473684 0.24115756]\n",
      " [0.3        0.27009646]\n",
      " [0.35263158 0.34083601]\n",
      " [0.48421053 0.48231511]\n",
      " [0.4        0.44694534]\n",
      " [0.11578947 0.12540193]\n",
      " [0.37894737 0.414791  ]\n",
      " [0.05789474 0.01286174]\n",
      " [0.04210526 0.0096463 ]\n",
      " [0.06842105 0.01607717]\n",
      " [0.14210526 0.05466238]\n",
      " [0.25263158 0.15755627]\n",
      " [0.29473684 0.21864952]\n",
      " [0.14736842 0.10289389]\n",
      " [0.31578947 0.25723473]\n",
      " [0.05789474 0.0192926 ]\n",
      " [0.05789474 0.01607717]\n",
      " [0.13684211 0.07073955]\n",
      " [0.07894737 0.02893891]\n",
      " [0.15789474 0.10932476]\n",
      " [0.07368421 0.02572347]\n",
      " [0.05789474 0.01607717]\n",
      " [0.03684211 0.01286174]\n",
      " [0.16842105 0.11575563]\n",
      " [0.24210526 0.19292605]\n",
      " [0.40526316 0.35048232]\n",
      " [0.14736842 0.12861736]\n",
      " [0.27368421 0.2829582 ]\n",
      " [0.09473684 0.09003215]\n",
      " [0.09473684 0.06752412]\n",
      " [0.07368421 0.04180064]\n",
      " [0.25263158 0.23472669]\n",
      " [0.52631579 0.49196141]\n",
      " [0.45789474 0.49196141]\n",
      " [0.29473684 0.36334405]\n",
      " [0.29473684 0.38263666]\n",
      " [0.24736842 0.34405145]\n",
      " [0.35789474 0.50482315]\n",
      " [0.10526316 0.02893891]\n",
      " [0.08947368 0.02572347]\n",
      " [0.08947368 0.02572347]\n",
      " [0.21052632 0.12540193]\n",
      " [0.27368421 0.19614148]\n",
      " [0.27368421 0.21864952]\n",
      " [0.28947368 0.25723473]\n",
      " [0.11578947 0.08360129]\n",
      " [0.36315789 0.31832797]\n",
      " [0.38947368 0.37299035]\n",
      " [0.37368421 0.38906752]\n",
      " [0.13157895 0.13504823]\n",
      " [0.31052632 0.32797428]\n",
      " [0.3        0.34083601]\n",
      " [0.19473684 0.20257235]\n",
      " [0.14736842 0.13504823]\n",
      " [0.51052632 0.46945338]\n",
      " [0.51052632 0.51768489]\n",
      " [0.51052632 0.55305466]\n",
      " [0.46315789 0.54019293]\n",
      " [0.48421053 0.59163987]\n",
      " [0.52105263 0.65594855]\n",
      " [0.54736842 0.7170418 ]\n",
      " [0.47368421 0.67202572]\n",
      " [0.43157895 0.65273312]\n",
      " [0.24736842 0.44051447]\n",
      " [0.23157895 0.4244373 ]\n",
      " [0.38421053 0.63987138]\n",
      " [0.65789474 0.97106109]\n",
      " [0.08947368 0.13504823]\n",
      " [0.03157895 0.0096463 ]\n",
      " [0.01052632 0.00321543]\n",
      " [0.         0.        ]\n",
      " [0.00526316 0.        ]\n",
      " [0.07368421 0.01607717]\n",
      " [0.14736842 0.05466238]\n",
      " [0.11052632 0.02893891]\n",
      " [0.07894737 0.0192926 ]\n",
      " [0.05789474 0.01286174]\n",
      " [0.03684211 0.00643087]\n",
      " [0.03684211 0.0096463 ]\n",
      " [0.05789474 0.0096463 ]\n",
      " [0.06315789 0.01607717]\n",
      " [0.00526316 0.        ]\n",
      " [0.02105263 0.00321543]\n",
      " [0.01052632 0.        ]\n",
      " [0.1        0.02572347]\n",
      " [0.32631579 0.18971061]\n",
      " [0.35789474 0.24758842]\n",
      " [0.41052632 0.31189711]\n",
      " [0.23684211 0.20257235]\n",
      " [0.28421053 0.26688103]\n",
      " [0.12631579 0.09003215]\n",
      " [0.06315789 0.02250804]\n",
      " [0.07894737 0.02250804]\n",
      " [0.02105263 0.00321543]\n",
      " [0.13157895 0.05466238]\n",
      " [0.21052632 0.1318328 ]\n",
      " [0.09473684 0.02893891]\n",
      " [0.01578947 0.00321543]\n",
      " [0.01052632 0.00321543]\n",
      " [0.03157895 0.00643087]\n",
      " [0.03157895 0.00643087]\n",
      " [0.01578947 0.00321543]\n",
      " [0.11578947 0.03215434]\n",
      " [0.09473684 0.02893891]\n",
      " [0.16315789 0.09967846]\n",
      " [0.28421053 0.19292605]\n",
      " [0.07894737 0.02572347]\n",
      " [0.12631579 0.06109325]\n",
      " [0.44210526 0.32154341]\n",
      " [0.70526316 0.53697749]\n",
      " [0.45789474 0.414791  ]\n",
      " [0.07368421 0.02893891]\n",
      " [0.02631579 0.0096463 ]\n",
      " [0.06315789 0.0192926 ]\n",
      " [0.01052632 0.00321543]\n",
      " [0.05789474 0.01286174]\n",
      " [0.04736842 0.01286174]\n",
      " [0.05263158 0.01286174]\n",
      " [0.04210526 0.0096463 ]\n",
      " [0.26315789 0.15755627]\n",
      " [0.1        0.03858521]\n",
      " [0.08421053 0.02572347]\n",
      " [0.25789474 0.17041801]\n",
      " [0.28421053 0.21543408]\n",
      " [0.36842105 0.30546624]\n",
      " [0.42105263 0.38585209]\n",
      " [0.61578947 0.59163987]\n",
      " [0.25263158 0.23151125]\n",
      " [0.11578947 0.07073955]\n",
      " [0.06315789 0.01607717]\n",
      " [0.35789474 0.20578778]\n",
      " [0.24736842 0.16720257]\n",
      " [0.42105263 0.31832797]\n",
      " [0.59473684 0.48231511]\n",
      " [0.22631579 0.20257235]\n",
      " [0.21578947 0.16720257]\n",
      " [0.16315789 0.09646302]\n",
      " [0.16842105 0.09967846]\n",
      " [0.10526316 0.04180064]\n",
      " [0.08421053 0.02572347]\n",
      " [0.43684211 0.30868167]\n",
      " [0.22105263 0.1511254 ]\n",
      " [0.57368421 0.45337621]\n",
      " [0.24736842 0.23472669]\n",
      " [0.24736842 0.24758842]\n",
      " [0.27368421 0.2926045 ]\n",
      " [0.38421053 0.41800643]\n",
      " [0.5        0.5562701 ]\n",
      " [0.97368421 0.96463023]\n",
      " [0.69473684 0.81672026]\n",
      " [0.36315789 0.52411576]\n",
      " [0.08421053 0.08038585]\n",
      " [0.05789474 0.02250804]\n",
      " [0.08421053 0.03215434]\n",
      " [0.14736842 0.10289389]\n",
      " [0.35263158 0.28938907]\n",
      " [0.38947368 0.35048232]\n",
      " [0.43157895 0.4244373 ]\n",
      " [0.43684211 0.46623794]\n",
      " [0.10526316 0.02572347]\n",
      " [0.72631579 0.4340836 ]\n",
      " [0.90526316 0.62700965]\n",
      " [0.82631579 0.67202572]\n",
      " [1.         0.40514469]\n",
      " [0.06842105 0.02572347]\n",
      " [0.06315789 0.0192926 ]\n",
      " [0.27368421 0.18971061]\n",
      " [0.50526316 0.40836013]\n",
      " [0.43157895 0.34405145]\n",
      " [0.87368421 0.69453376]\n",
      " [0.81578947 0.60450161]\n",
      " [0.39473684 0.33762058]\n",
      " [0.56842105 0.50482315]\n",
      " [0.18421053 0.17684887]\n",
      " [0.5        0.47588424]\n",
      " [0.82631579 0.77170418]\n",
      " [0.84210526 0.84565916]\n",
      " [0.17368421 0.24758842]\n",
      " [0.2        0.28938907]\n",
      " [0.26842105 0.39228296]\n",
      " [0.42105263 0.58199357]\n",
      " [0.60526316 0.78778135]\n",
      " [0.64210526 0.86495177]\n",
      " [0.75263158 1.        ]\n",
      " [0.68947368 0.97427653]\n",
      " [0.52631579 0.8392283 ]\n",
      " [0.11052632 0.19614148]\n",
      " [0.14210526 0.18971061]\n",
      " [0.42631579 0.51446945]\n",
      " [0.51578947 0.62379421]\n",
      " [0.00526316 0.        ]\n",
      " [0.10526316 0.02572347]\n",
      " [0.17368421 0.08038585]\n",
      " [0.07894737 0.02250804]\n",
      " [0.05263158 0.01286174]\n",
      " [0.05263158 0.01286174]\n",
      " [0.2        0.10289389]\n",
      " [0.15789474 0.08681672]\n",
      " [0.18421053 0.11897106]\n",
      " [0.04210526 0.0096463 ]\n",
      " [0.11052632 0.03858521]\n",
      " [0.2        0.12540193]\n",
      " [0.47894737 0.33118971]\n",
      " [0.22631579 0.18327974]\n",
      " [0.36315789 0.31511254]\n",
      " [0.74736842 0.62057878]\n",
      " [0.58947368 0.56270096]\n",
      " [0.47368421 0.49517685]\n",
      " [0.14210526 0.18006431]\n",
      " [0.11052632 0.1221865 ]\n",
      " [0.72631579 0.69453376]\n",
      " [0.37368421 0.44051447]\n",
      " [0.39473684 0.48874598]\n",
      " [0.03157895 0.01286174]\n",
      " [0.12631579 0.09646302]\n",
      " [0.23684211 0.20900322]\n",
      " [0.00526316 0.        ]\n",
      " [0.02105263 0.00643087]\n",
      " [0.08947368 0.02250804]\n",
      " [0.06315789 0.01607717]]\n"
     ]
    }
   ],
   "source": [
    "reduced_x = scaled_x[:, [7 ,9]]\n",
    "print(reduced_x)"
   ]
  },
  {
   "cell_type": "code",
   "execution_count": 57,
   "id": "f156c9f0",
   "metadata": {},
   "outputs": [],
   "source": [
    "from sklearn.preprocessing import PolynomialFeatures"
   ]
  },
  {
   "cell_type": "code",
   "execution_count": 58,
   "id": "d9fe5d52",
   "metadata": {},
   "outputs": [],
   "source": [
    "poly = PolynomialFeatures(2)\n",
    "polyed_x = poly.fit_transform(reduced_x)"
   ]
  },
  {
   "cell_type": "code",
   "execution_count": 59,
   "id": "64fea8dd",
   "metadata": {},
   "outputs": [
    {
     "name": "stdout",
     "output_type": "stream",
     "text": [
      "[[1.00000000e+00 6.84210526e-02 1.60771704e-02 4.68144044e-03\n",
      "  1.10001692e-03 2.58475409e-04]\n",
      " [1.00000000e+00 5.26315789e-02 1.28617363e-02 2.77008310e-03\n",
      "  6.76933491e-04 1.65424262e-04]\n",
      " [1.00000000e+00 1.57894737e-02 3.21543408e-03 2.49307479e-04\n",
      "  5.07700118e-05 1.03390163e-05]\n",
      " ...\n",
      " [1.00000000e+00 2.10526316e-02 6.43086817e-03 4.43213296e-04\n",
      "  1.35386698e-04 4.13560654e-05]\n",
      " [1.00000000e+00 8.94736842e-02 2.25080386e-02 8.00554017e-03\n",
      "  2.01387714e-03 5.06611801e-04]\n",
      " [1.00000000e+00 6.31578947e-02 1.60771704e-02 3.98891967e-03\n",
      "  1.01540024e-03 2.58475409e-04]]\n"
     ]
    }
   ],
   "source": [
    "print(polyed_x)"
   ]
  },
  {
   "cell_type": "code",
   "execution_count": 60,
   "id": "1597a8eb",
   "metadata": {},
   "outputs": [],
   "source": [
    "# in order to avoid over-fitting, we add L2 penalty\n",
    "u2_lg_clf = LogisticRegression(max_iter=2000, solver='liblinear', penalty='l2')\n",
    "u2_train_acc_vector = []\n",
    "u2_test_acc_vector = []\n",
    "\n",
    "for (train_idx, test_idx) in kf.split(polyed_x):\n",
    "    train_x, test_x = polyed_x[train_idx, :], polyed_x[test_idx, :]\n",
    "    train_y, test_y = data_y[train_idx], data_y[test_idx]\n",
    "    u2_lg_clf.fit(train_x, train_y)\n",
    "    u2_train_acc_vector.append(u2_lg_clf.score(train_x, train_y))\n",
    "    u2_test_acc_vector.append(u2_lg_clf.score(test_x, test_y))\n",
    "u2_avg_train_acc = np.average(u2_train_acc_vector)\n",
    "u2_avg_test_acc = np.average(u2_test_acc_vector)"
   ]
  },
  {
   "cell_type": "code",
   "execution_count": 61,
   "id": "c3085e65",
   "metadata": {},
   "outputs": [
    {
     "name": "stdout",
     "output_type": "stream",
     "text": [
      "u2_avg_train_acc:  0.9331271477663231\n",
      "u2_avg_test_acc:  0.9340986394557824\n"
     ]
    }
   ],
   "source": [
    "print(\"u2_avg_train_acc: \", u2_avg_train_acc)\n",
    "print(\"u2_avg_test_acc: \", u2_avg_test_acc)"
   ]
  },
  {
   "cell_type": "code",
   "execution_count": 62,
   "id": "b2be96b0",
   "metadata": {},
   "outputs": [
    {
     "data": {
      "text/plain": [
       "array([[-0.67283405,  3.90708225,  3.62990218,  1.41051643,  1.20826369,\n",
       "         1.07496456]])"
      ]
     },
     "execution_count": 62,
     "metadata": {},
     "output_type": "execute_result"
    }
   ],
   "source": [
    "u2_lg_clf.coef_"
   ]
  },
  {
   "cell_type": "code",
   "execution_count": null,
   "id": "ef6d46a2",
   "metadata": {},
   "outputs": [],
   "source": []
  }
 ],
 "metadata": {
  "kernelspec": {
   "display_name": "Python 3 (ipykernel)",
   "language": "python",
   "name": "python3"
  },
  "language_info": {
   "codemirror_mode": {
    "name": "ipython",
    "version": 3
   },
   "file_extension": ".py",
   "mimetype": "text/x-python",
   "name": "python",
   "nbconvert_exporter": "python",
   "pygments_lexer": "ipython3",
   "version": "3.10.9"
  }
 },
 "nbformat": 4,
 "nbformat_minor": 5
}
